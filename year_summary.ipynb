{
 "cells": [
  {
   "cell_type": "code",
   "execution_count": 13,
   "metadata": {},
   "outputs": [],
   "source": [
    "import requests\n",
    "from bs4 import BeautifulSoup\n",
    "import pandas as pd\n",
    "import datetime"
   ]
  },
  {
   "cell_type": "code",
   "execution_count": 3,
   "metadata": {},
   "outputs": [],
   "source": [
    "# Request to website and download HTML contents\n",
    "movie_url = \"https://www.boxofficemojo.com/daily/2024/?view=year\"\n",
    "\n",
    "# Make a request\n",
    "req = requests.get(movie_url)\n",
    "content = req.text\n",
    "\n",
    "# Use Beautiful Soup\n",
    "soup = BeautifulSoup(content)\n"
   ]
  },
  {
   "cell_type": "code",
   "execution_count": 4,
   "metadata": {},
   "outputs": [
    {
     "data": {
      "text/plain": [
       "[<td class=\"a-text-left mojo-header-column mojo-truncate mojo-field-type-date_interval mojo-sort-column\"><a class=\"a-link-normal\" href=\"/date/2024-03-31/?ref_=bo_di_table_46\">Mar 31</a><div class=\"a-section a-spacing-none\"><span class=\"a-size-small a-color-secondary\">Easter Sunday</span></div></td>,\n",
       " <td class=\"a-text-left mojo-field-type-date_interval\"><a class=\"a-link-normal\" href=\"/date/2024-03-31/?ref_=bo_di_table_46\">Sunday</a></td>,\n",
       " <td class=\"a-text-right mojo-field-type-date_interval\"><a class=\"a-link-normal\" href=\"/date/2024-03-31/?ref_=bo_di_table_46\">91</a></td>,\n",
       " <td class=\"a-text-right mojo-field-type-money\">$29,220,346</td>,\n",
       " <td class=\"a-text-right mojo-number-negative mojo-number-delta mojo-field-type-percent_delta mojo-estimatable\">-36.7%</td>,\n",
       " <td class=\"a-text-right mojo-number-delta mojo-field-type-percent_delta mojo-estimatable\">+10.2%</td>,\n",
       " <td class=\"a-text-right mojo-field-type-positive_integer\">42</td>,\n",
       " <td class=\"a-text-left mojo-field-type-release mojo-cell-wide\"><a class=\"a-link-normal\" href=\"/release/rl3351937793/?ref_=bo_di_table_46\">Godzilla x Kong: The New Empire</a></td>,\n",
       " <td class=\"a-text-right mojo-field-type-money\">$16,784,910</td>]"
      ]
     },
     "execution_count": 4,
     "metadata": {},
     "output_type": "execute_result"
    }
   ],
   "source": [
    "# Inspect page data to determine out to set up the scraping algorithm\n",
    "rows = soup.findAll('tr')\n",
    "data = rows[46].findAll('td')\n",
    "data"
   ]
  },
  {
   "cell_type": "code",
   "execution_count": 5,
   "metadata": {},
   "outputs": [
    {
     "name": "stdout",
     "output_type": "stream",
     "text": [
      "Mar 31Easter Sunday\n",
      "Sunday\n",
      "91\n",
      "$29,220,346\n",
      "-36.7%\n",
      "+10.2%\n",
      "42\n",
      "Godzilla x Kong: The New Empire\n",
      "$16,784,910\n"
     ]
    }
   ],
   "source": [
    "# Inspect page data to determine out to set up the scraping algorithm\n",
    "\n",
    "for i in range(len(data)):\n",
    "    print(data[i].text)\n",
    "    "
   ]
  },
  {
   "cell_type": "code",
   "execution_count": 6,
   "metadata": {},
   "outputs": [
    {
     "name": "stdout",
     "output_type": "stream",
     "text": [
      "Mar 31\n",
      "Easter Sunday\n"
     ]
    }
   ],
   "source": [
    "#Special occasion that is listed\n",
    "print(data[0].findAll('a')[0].text)\n",
    "print(data[0].findAll('span')[0].text)"
   ]
  },
  {
   "cell_type": "code",
   "execution_count": 7,
   "metadata": {},
   "outputs": [
    {
     "data": {
      "text/plain": [
       "1"
      ]
     },
     "execution_count": 7,
     "metadata": {},
     "output_type": "execute_result"
    }
   ],
   "source": [
    "len(data[0].findAll('span'))"
   ]
  },
  {
   "cell_type": "code",
   "execution_count": 8,
   "metadata": {},
   "outputs": [],
   "source": [
    "#Test data construction\n",
    "\n",
    "appended_data = []\n",
    "for row in rows:\n",
    "    data_row = {}\n",
    "    data = row.findAll('td')\n",
    "    if len(data) == 0:\n",
    "        continue\n",
    "    if len(data[0].findAll('span')) > 0:\n",
    "        #special weekend\n",
    "        data_row['occasion'] = data[0].findAll('span')[0].text\n",
    "        data_row['date'] = data[0].findAll('a')[0].text\n",
    "    else:\n",
    "        #normal weekend\n",
    "        data_row['occasion'] = \"\"\n",
    "        data_row['date'] = data[0].text\n",
    "        \n",
    "    data_row['day_of_week'] = data[1].text\n",
    "    data_row['day_number'] = data[2].text\n",
    "    data_row['top_10_gross'] = data[3].text\n",
    "    data_row['top_10_gross_change_yesterday'] = data[4].text\n",
    "    data_row['top_10_gross_change_week'] = data[5].text\n",
    "    data_row['number_releases'] = data[6].text\n",
    "    data_row['movie_title'] = data[7].text\n",
    "    data_row['gross'] = data[8].text\n",
    "    appended_data.append(data_row)\n",
    "year_data = pd.DataFrame(appended_data, columns = ['date','occasion', 'day_of_week', 'day_number', 'top_10_gross', 'top_10_gross_change_yesterday', 'top_10_gross_change_week', 'number_releases', 'movie_title', 'gross']) \n"
   ]
  },
  {
   "cell_type": "code",
   "execution_count": 9,
   "metadata": {},
   "outputs": [
    {
     "data": {
      "text/html": [
       "<div>\n",
       "<style scoped>\n",
       "    .dataframe tbody tr th:only-of-type {\n",
       "        vertical-align: middle;\n",
       "    }\n",
       "\n",
       "    .dataframe tbody tr th {\n",
       "        vertical-align: top;\n",
       "    }\n",
       "\n",
       "    .dataframe thead th {\n",
       "        text-align: right;\n",
       "    }\n",
       "</style>\n",
       "<table border=\"1\" class=\"dataframe\">\n",
       "  <thead>\n",
       "    <tr style=\"text-align: right;\">\n",
       "      <th></th>\n",
       "      <th>date</th>\n",
       "      <th>occasion</th>\n",
       "      <th>day_of_week</th>\n",
       "      <th>day_number</th>\n",
       "      <th>top_10_gross</th>\n",
       "      <th>top_10_gross_change_yesterday</th>\n",
       "      <th>top_10_gross_change_week</th>\n",
       "      <th>number_releases</th>\n",
       "      <th>movie_title</th>\n",
       "      <th>gross</th>\n",
       "    </tr>\n",
       "  </thead>\n",
       "  <tbody>\n",
       "    <tr>\n",
       "      <th>0</th>\n",
       "      <td>May 15</td>\n",
       "      <td></td>\n",
       "      <td>Wednesday</td>\n",
       "      <td>136</td>\n",
       "      <td>$6,608,650</td>\n",
       "      <td>-35.7%</td>\n",
       "      <td>+36.2%</td>\n",
       "      <td>20</td>\n",
       "      <td>Kingdom of the Planet of the Apes</td>\n",
       "      <td>$3,467,083</td>\n",
       "    </tr>\n",
       "    <tr>\n",
       "      <th>1</th>\n",
       "      <td>May 14</td>\n",
       "      <td></td>\n",
       "      <td>Tuesday</td>\n",
       "      <td>135</td>\n",
       "      <td>$10,283,507</td>\n",
       "      <td>+30.6%</td>\n",
       "      <td>+34.1%</td>\n",
       "      <td>21</td>\n",
       "      <td>Kingdom of the Planet of the Apes</td>\n",
       "      <td>$5,992,353</td>\n",
       "    </tr>\n",
       "    <tr>\n",
       "      <th>2</th>\n",
       "      <td>May 13</td>\n",
       "      <td></td>\n",
       "      <td>Monday</td>\n",
       "      <td>134</td>\n",
       "      <td>$7,873,794</td>\n",
       "      <td>-71%</td>\n",
       "      <td>+39%</td>\n",
       "      <td>22</td>\n",
       "      <td>Kingdom of the Planet of the Apes</td>\n",
       "      <td>$4,455,596</td>\n",
       "    </tr>\n",
       "  </tbody>\n",
       "</table>\n",
       "</div>"
      ],
      "text/plain": [
       "     date occasion day_of_week day_number top_10_gross  \\\n",
       "0  May 15            Wednesday        136   $6,608,650   \n",
       "1  May 14              Tuesday        135  $10,283,507   \n",
       "2  May 13               Monday        134   $7,873,794   \n",
       "\n",
       "  top_10_gross_change_yesterday top_10_gross_change_week number_releases  \\\n",
       "0                        -35.7%                   +36.2%              20   \n",
       "1                        +30.6%                   +34.1%              21   \n",
       "2                          -71%                     +39%              22   \n",
       "\n",
       "                         movie_title       gross  \n",
       "0  Kingdom of the Planet of the Apes  $3,467,083  \n",
       "1  Kingdom of the Planet of the Apes  $5,992,353  \n",
       "2  Kingdom of the Planet of the Apes  $4,455,596  "
      ]
     },
     "execution_count": 9,
     "metadata": {},
     "output_type": "execute_result"
    }
   ],
   "source": [
    "year_data.head(3)"
   ]
  },
  {
   "cell_type": "code",
   "execution_count": 22,
   "metadata": {},
   "outputs": [],
   "source": [
    "# Create write function\n",
    "def scrape_year_summary(year):\n",
    "    url=f'https://www.boxofficemojo.com/daily/{year}/?view=year'\n",
    "    req=requests.get(url)\n",
    "    content=req.text\n",
    "    soup=BeautifulSoup(content)\n",
    "    rows=soup.findAll('tr')\n",
    "    appended_data = []\n",
    "\n",
    "    for row in rows:\n",
    "        data_row = {}\n",
    "        data = row.findAll('td')\n",
    "        if len(data) == 0:\n",
    "            continue\n",
    "        if len(data[0].findAll('span')) > 0:\n",
    "        #special weekend\n",
    "            data_row['occasion'] = data[0].findAll('span')[0].text\n",
    "            data_row['date'] = data[0].findAll('a')[0].text\n",
    "        else:\n",
    "        #normal weekend\n",
    "            data_row['occasion'] = \"\"\n",
    "            data_row['date'] = data[0].text\n",
    "\n",
    "        data_row['day_of_week'] = data[1].text\n",
    "        data_row['day_number'] = data[2].text\n",
    "        data_row['top_10_gross'] = data[3].text\n",
    "        data_row['top_10_gross_change_yesterday'] = data[4].text\n",
    "        data_row['top_10_gross_change_week'] = data[5].text\n",
    "        data_row['number_releases'] = data[6].text\n",
    "        data_row['movie_title'] = data[7].text\n",
    "        data_row['gross'] = data[8].text\n",
    "        appended_data.append(data_row)\n",
    "\n",
    "    year_data = pd.DataFrame(appended_data, columns = ['date','occasion', 'day_of_week', 'day_number', 'top_10_gross', 'top_10_gross_change_yesterday', 'top_10_gross_change_week', 'number_releases', 'movie_title', 'gross']) \n",
    "    year_data.to_csv(f'/Users/beek/Desktop/boxofficemojo_scraping/year_summary_datasource/year_summary_{year}.csv', index=False)"
   ]
  },
  {
   "cell_type": "code",
   "execution_count": 23,
   "metadata": {},
   "outputs": [
    {
     "name": "stdout",
     "output_type": "stream",
     "text": [
      "1982\n",
      "1983\n",
      "1984\n",
      "1985\n",
      "1986\n",
      "1987\n",
      "1988\n",
      "1989\n",
      "1990\n",
      "1991\n",
      "1992\n",
      "1993\n",
      "1994\n",
      "1995\n",
      "1996\n",
      "1997\n",
      "1998\n",
      "1999\n",
      "2000\n",
      "2001\n",
      "2002\n",
      "2003\n",
      "2004\n",
      "2005\n",
      "2006\n",
      "2007\n",
      "2008\n",
      "2009\n",
      "2010\n",
      "2011\n",
      "2012\n",
      "2013\n",
      "2014\n",
      "2015\n",
      "2016\n",
      "2017\n",
      "2018\n",
      "2019\n",
      "2020\n",
      "2021\n",
      "2022\n",
      "2023\n",
      "2024\n"
     ]
    }
   ],
   "source": [
    "#Get current year\n",
    "todays_date = datetime.date.today()\n",
    "current_year = todays_date.year\n",
    "\n",
    "years = range(1982, current_year+1)\n",
    "\n",
    "for year in years:\n",
    "    print(year)\n",
    "    scrape_year_summary(year)"
   ]
  },
  {
   "cell_type": "code",
   "execution_count": null,
   "metadata": {},
   "outputs": [],
   "source": []
  }
 ],
 "metadata": {
  "kernelspec": {
   "display_name": "Python 3",
   "language": "python",
   "name": "python3"
  },
  "language_info": {
   "codemirror_mode": {
    "name": "ipython",
    "version": 3
   },
   "file_extension": ".py",
   "mimetype": "text/x-python",
   "name": "python",
   "nbconvert_exporter": "python",
   "pygments_lexer": "ipython3",
   "version": "3.11.4"
  }
 },
 "nbformat": 4,
 "nbformat_minor": 2
}
