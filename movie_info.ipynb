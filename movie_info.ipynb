{
 "cells": [
  {
   "cell_type": "code",
   "execution_count": 1,
   "metadata": {},
   "outputs": [],
   "source": [
    "import requests\n",
    "from bs4 import BeautifulSoup\n",
    "import pandas as pd\n",
    "import datetime"
   ]
  },
  {
   "cell_type": "code",
   "execution_count": 2,
   "metadata": {},
   "outputs": [],
   "source": [
    "# Request to website and download HTML contents\n",
    "movie_url = \"https://www.boxofficemojo.com/year/2024/?grossesOption=calendarGrosses\"\n",
    "\n",
    "# Make a request\n",
    "req = requests.get(movie_url)\n",
    "content = req.text\n",
    "\n",
    "# Use Beautiful Soup\n",
    "soup = BeautifulSoup(content)\n"
   ]
  },
  {
   "cell_type": "code",
   "execution_count": 20,
   "metadata": {},
   "outputs": [
    {
     "data": {
      "text/plain": [
       "[<td class=\"a-text-right mojo-header-column mojo-truncate mojo-field-type-rank mojo-sort-column\">37</td>,\n",
       " <td class=\"a-text-left mojo-field-type-release mojo-cell-wide\"><a class=\"a-link-normal\" href=\"/release/rl1901887489/?ref_=bo_yld_table_37\">Star Wars: Episode I - The Phantom Menace</a><div class=\"a-section a-spacing-none\"><span class=\"a-size-small a-color-secondary\">2024 Re-release</span></div></td>,\n",
       " <td class=\"a-text-left mojo-field-type-genre hidden\">-</td>,\n",
       " <td class=\"a-text-right mojo-field-type-money hidden\">-</td>,\n",
       " <td class=\"a-text-right mojo-field-type-duration hidden\">-</td>,\n",
       " <td class=\"a-text-right mojo-field-type-money mojo-estimatable\">$12,587,146</td>,\n",
       " <td class=\"a-text-right mojo-field-type-positive_integer\">2,700</td>,\n",
       " <td class=\"a-text-right mojo-field-type-money mojo-estimatable\">$12,587,146</td>,\n",
       " <td class=\"a-text-left mojo-field-type-date a-nowrap\">May 3</td>,\n",
       " <td class=\"a-text-left mojo-field-type-studio\"><a class=\"a-link-normal\" href=\"https://pro.imdb.com/company/co0226183/boxoffice/?view=releases&amp;ref_=mojo_yld_table_37&amp;rf=mojo_yld_table_37\" rel=\"noopener\" target=\"_blank\">Walt Disney Studios Motion Pictures<svg class=\"mojo-new-window-svg\" viewbox=\"0 0 32 32\" xmlns=\"http://www.w3.org/2000/svg\">\n",
       " <path d=\"M24,15.57251l3,3V23.5A3.50424,3.50424,0,0,1,23.5,27H8.5A3.50424,3.50424,0,0,1,5,23.5V8.5A3.50424,3.50424,0,0,1,8.5,5h4.92755l3,3H8.5a.50641.50641,0,0,0-.5.5v15a.50641.50641,0,0,0,.5.5h15a.50641.50641,0,0,0,.5-.5ZM19.81952,8.56372,12.8844,17.75a.49989.49989,0,0,0,.04547.65479l.66534.66528a.49983.49983,0,0,0,.65479.04553l9.18628-6.93518,2.12579,2.12585a.5.5,0,0,0,.84741-.27526l1.48273-9.35108a.50006.50006,0,0,0-.57214-.57214L17.969,5.59058a.5.5,0,0,0-.27526.84741Z\"></path>\n",
       " </svg></a></td>,\n",
       " <td class=\"a-text-right mojo-field-type-boolean hidden\">false</td>]"
      ]
     },
     "execution_count": 20,
     "metadata": {},
     "output_type": "execute_result"
    }
   ],
   "source": [
    "# Inspect page data to determine out to set up the scraping algorithm\n",
    "rows = soup.findAll('tr')\n",
    "data = rows[37].findAll('td')\n",
    "data"
   ]
  },
  {
   "cell_type": "code",
   "execution_count": 21,
   "metadata": {},
   "outputs": [
    {
     "name": "stdout",
     "output_type": "stream",
     "text": [
      "37\n",
      "Star Wars: Episode I - The Phantom Menace2024 Re-release\n",
      "-\n",
      "-\n",
      "-\n",
      "$12,587,146\n",
      "2,700\n",
      "$12,587,146\n",
      "May 3\n",
      "Walt Disney Studios Motion Pictures\n",
      "\n",
      "\n",
      "false\n"
     ]
    }
   ],
   "source": [
    "# Inspect page data to determine out to set up the scraping algorithm\n",
    "\n",
    "for i in range(len(data)):\n",
    "    print(data[i].text)\n",
    "    "
   ]
  },
  {
   "cell_type": "code",
   "execution_count": 22,
   "metadata": {},
   "outputs": [
    {
     "name": "stdout",
     "output_type": "stream",
     "text": [
      "Star Wars: Episode I - The Phantom Menace\n",
      "2024 Re-release\n"
     ]
    }
   ],
   "source": [
    "#Special occasion that is listed\n",
    "print(data[1].findAll('a')[0].text)\n",
    "print(data[1].findAll('span')[0].text)\n"
   ]
  },
  {
   "cell_type": "code",
   "execution_count": 27,
   "metadata": {},
   "outputs": [
    {
     "name": "stdout",
     "output_type": "stream",
     "text": [
      "1\n",
      "1\n"
     ]
    }
   ],
   "source": [
    "print(len(data[1].findAll('span')))\n",
    "print(len(data[1].findAll('span')))"
   ]
  },
  {
   "cell_type": "code",
   "execution_count": 38,
   "metadata": {},
   "outputs": [],
   "source": [
    "#Test data construction\n",
    "\n",
    "appended_data = []\n",
    "for row in rows:\n",
    "    data_row = {}\n",
    "    data = row.findAll('td')\n",
    "    if len(data) == 0:\n",
    "        continue\n",
    "    if len(data[1].findAll('span')) > 0:\n",
    "        #re-release\n",
    "        data_row['re_release'] = data[1].findAll('span')[0].text\n",
    "        data_row['title'] = data[1].findAll('a')[0].text\n",
    "    else:\n",
    "        #normal release\n",
    "        data_row['re_release'] = \"\"\n",
    "        data_row['title'] = data[1].text\n",
    "        \n",
    "    data_row['rank'] = data[0].text\n",
    "    data_row['gross'] = data[5].text\n",
    "    data_row['num_theaters'] = data[6].text\n",
    "    data_row['total_gross'] = data[7].text\n",
    "    data_row['date'] = data[8].text\n",
    "    data_row['distributor'] = data[9].text.strip()\n",
    "    appended_data.append(data_row)\n",
    "movie_data = pd.DataFrame(appended_data, columns = ['rank', 'title', 're_release', 'gross', 'num_theaters', 'total_gross', 'date', 'distributor']) \n"
   ]
  },
  {
   "cell_type": "code",
   "execution_count": 41,
   "metadata": {},
   "outputs": [
    {
     "data": {
      "text/html": [
       "<div>\n",
       "<style scoped>\n",
       "    .dataframe tbody tr th:only-of-type {\n",
       "        vertical-align: middle;\n",
       "    }\n",
       "\n",
       "    .dataframe tbody tr th {\n",
       "        vertical-align: top;\n",
       "    }\n",
       "\n",
       "    .dataframe thead th {\n",
       "        text-align: right;\n",
       "    }\n",
       "</style>\n",
       "<table border=\"1\" class=\"dataframe\">\n",
       "  <thead>\n",
       "    <tr style=\"text-align: right;\">\n",
       "      <th></th>\n",
       "      <th>rank</th>\n",
       "      <th>title</th>\n",
       "      <th>re_release</th>\n",
       "      <th>gross</th>\n",
       "      <th>num_theaters</th>\n",
       "      <th>total_gross</th>\n",
       "      <th>date</th>\n",
       "      <th>distributor</th>\n",
       "    </tr>\n",
       "  </thead>\n",
       "  <tbody>\n",
       "    <tr>\n",
       "      <th>0</th>\n",
       "      <td>1</td>\n",
       "      <td>Dune: Part Two</td>\n",
       "      <td></td>\n",
       "      <td>$282,110,347</td>\n",
       "      <td>4,074</td>\n",
       "      <td>$282,110,347</td>\n",
       "      <td>Mar 1</td>\n",
       "      <td>Warner Bros.</td>\n",
       "    </tr>\n",
       "    <tr>\n",
       "      <th>1</th>\n",
       "      <td>2</td>\n",
       "      <td>Godzilla x Kong: The New Empire</td>\n",
       "      <td></td>\n",
       "      <td>$192,535,005</td>\n",
       "      <td>3,948</td>\n",
       "      <td>$192,535,005</td>\n",
       "      <td>Mar 29</td>\n",
       "      <td>Warner Bros.</td>\n",
       "    </tr>\n",
       "    <tr>\n",
       "      <th>2</th>\n",
       "      <td>3</td>\n",
       "      <td>Kung Fu Panda 4</td>\n",
       "      <td></td>\n",
       "      <td>$191,571,760</td>\n",
       "      <td>4,067</td>\n",
       "      <td>$191,571,760</td>\n",
       "      <td>Mar 8</td>\n",
       "      <td>Universal Pictures</td>\n",
       "    </tr>\n",
       "  </tbody>\n",
       "</table>\n",
       "</div>"
      ],
      "text/plain": [
       "  rank                            title re_release         gross num_theaters  \\\n",
       "0    1                   Dune: Part Two             $282,110,347        4,074   \n",
       "1    2  Godzilla x Kong: The New Empire             $192,535,005        3,948   \n",
       "2    3                  Kung Fu Panda 4             $191,571,760        4,067   \n",
       "\n",
       "    total_gross    date         distributor  \n",
       "0  $282,110,347   Mar 1        Warner Bros.  \n",
       "1  $192,535,005  Mar 29        Warner Bros.  \n",
       "2  $191,571,760   Mar 8  Universal Pictures  "
      ]
     },
     "execution_count": 41,
     "metadata": {},
     "output_type": "execute_result"
    }
   ],
   "source": [
    "movie_data.head(3)"
   ]
  },
  {
   "cell_type": "code",
   "execution_count": 42,
   "metadata": {},
   "outputs": [],
   "source": [
    "# Create write function\n",
    "def scrape_movie_summary(year):\n",
    "    url=f'https://www.boxofficemojo.com/year/{year}/?grossesOption=calendarGrosses'\n",
    "    req=requests.get(url)\n",
    "    content=req.text\n",
    "    soup=BeautifulSoup(content)\n",
    "    rows=soup.findAll('tr')\n",
    "    appended_data = []\n",
    "\n",
    "    for row in rows:\n",
    "        data_row = {}\n",
    "        data = row.findAll('td')\n",
    "        if len(data) == 0:\n",
    "            continue\n",
    "        if len(data[1].findAll('span')) > 0:\n",
    "            #re-release\n",
    "            data_row['re_release'] = data[1].findAll('span')[0].text\n",
    "            data_row['title'] = data[1].findAll('a')[0].text\n",
    "        else:\n",
    "            #normal release\n",
    "            data_row['re_release'] = \"\"\n",
    "            data_row['title'] = data[1].text\n",
    "        \n",
    "        data_row['rank'] = data[0].text\n",
    "        data_row['gross'] = data[5].text\n",
    "        data_row['num_theaters'] = data[6].text\n",
    "        data_row['total_gross'] = data[7].text\n",
    "        data_row['date'] = data[8].text\n",
    "        data_row['distributor'] = data[9].text.strip()\n",
    "        appended_data.append(data_row)\n",
    "\n",
    "    movie_data = pd.DataFrame(appended_data, columns = ['rank', 'title', 're_release', 'gross', 'num_theaters', 'total_gross', 'date', 'distributor']) \n",
    "\n",
    "    movie_data.to_csv(f'/Users/beek/Desktop/boxofficemojo_scraping/movie_info_datasource/movie_summary_{year}.csv', index=False)"
   ]
  },
  {
   "cell_type": "code",
   "execution_count": 44,
   "metadata": {},
   "outputs": [
    {
     "name": "stdout",
     "output_type": "stream",
     "text": [
      "1982\n",
      "1983\n",
      "1984\n",
      "1985\n",
      "1986\n",
      "1987\n",
      "1988\n",
      "1989\n",
      "1990\n",
      "1991\n",
      "1992\n",
      "1993\n",
      "1994\n",
      "1995\n",
      "1996\n",
      "1997\n",
      "1998\n",
      "1999\n",
      "2000\n",
      "2001\n",
      "2002\n",
      "2003\n",
      "2004\n",
      "2005\n",
      "2006\n",
      "2007\n",
      "2008\n",
      "2009\n",
      "2010\n",
      "2011\n",
      "2012\n",
      "2013\n",
      "2014\n",
      "2015\n",
      "2016\n",
      "2017\n",
      "2018\n",
      "2019\n",
      "2020\n",
      "2021\n",
      "2022\n",
      "2023\n",
      "2024\n"
     ]
    }
   ],
   "source": [
    "#Get current year\n",
    "todays_date = datetime.date.today()\n",
    "current_year = todays_date.year\n",
    "\n",
    "years = range(1982, current_year+1)\n",
    "\n",
    "for year in years:\n",
    "    print(year)\n",
    "    scrape_movie_summary(year)"
   ]
  },
  {
   "cell_type": "code",
   "execution_count": null,
   "metadata": {},
   "outputs": [],
   "source": []
  }
 ],
 "metadata": {
  "kernelspec": {
   "display_name": "Python 3",
   "language": "python",
   "name": "python3"
  },
  "language_info": {
   "codemirror_mode": {
    "name": "ipython",
    "version": 3
   },
   "file_extension": ".py",
   "mimetype": "text/x-python",
   "name": "python",
   "nbconvert_exporter": "python",
   "pygments_lexer": "ipython3",
   "version": "3.11.4"
  }
 },
 "nbformat": 4,
 "nbformat_minor": 2
}
